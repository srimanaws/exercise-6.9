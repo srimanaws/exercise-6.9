{
 "cells": [
  {
   "cell_type": "code",
   "execution_count": 1,
   "id": "7269e23d-33a6-49b3-ab6e-28d8c0aa28ce",
   "metadata": {},
   "outputs": [
    {
     "name": "stdout",
     "output_type": "stream",
     "text": [
      "The dictionary contains the key 'Canada'.\n",
      "The key 'France' is not found.\n",
      "\n",
      "Country TLDs (two-column format):\n",
      "Canada          ca\n",
      "United States   us\n",
      "Mexico          mx\n",
      "\n",
      "Added incorrect 'Sweden' TLD: {'Canada': 'ca', 'United States': 'us', 'Mexico': 'mx', 'Sweden': 'sw'}\n",
      "\n",
      "Updated 'Sweden' TLD to correct value: {'Canada': 'ca', 'United States': 'us', 'Mexico': 'mx', 'Sweden': 'se'}\n",
      "\n",
      "Reversed dictionary (TLD -> Country): {'ca': 'Canada', 'us': 'United States', 'mx': 'Mexico', 'se': 'Sweden'}\n",
      "\n",
      "Countries in uppercase: {'ca': 'CANADA', 'us': 'UNITED STATES', 'mx': 'MEXICO', 'se': 'SWEDEN'}\n"
     ]
    }
   ],
   "source": [
    "#Exercise 6.9 by sriman\n",
    "# Starting with the given dictionary of country TLDs\n",
    "tlds = {'Canada': 'ca', 'United States': 'us', 'Mexico': 'mx'}\n",
    "\n",
    "# a) Check if the dictionary contains the key 'Canada'\n",
    "if 'Canada' in tlds:\n",
    "    print(\"The dictionary contains the key 'Canada'.\")\n",
    "else:\n",
    "    print(\"The key 'Canada' is not found.\")\n",
    "\n",
    "# b) Check if the dictionary contains the key 'France'\n",
    "if 'France' in tlds:\n",
    "    print(\"The dictionary contains the key 'France'.\")\n",
    "else:\n",
    "    print(\"The key 'France' is not found.\")\n",
    "\n",
    "# c) Iterate through the key–value pairs and display them in two-column format\n",
    "print(\"\\nCountry TLDs (two-column format):\")\n",
    "for country, tld in tlds.items():\n",
    "    print(f\"{country:15} {tld}\")\n",
    "\n",
    "# d) Add the key–value pair 'Sweden' and 'sw' (which is incorrect)\n",
    "tlds['Sweden'] = 'sw'\n",
    "print(\"\\nAdded incorrect 'Sweden' TLD:\", tlds)\n",
    "\n",
    "# e) Update the value for the key 'Sweden' to 'se'\n",
    "tlds['Sweden'] = 'se'\n",
    "print(\"\\nUpdated 'Sweden' TLD to correct value:\", tlds)\n",
    "\n",
    "# f) Use a dictionary comprehension to reverse the keys and values\n",
    "reversed_tlds = {v: k for k, v in tlds.items()}\n",
    "print(\"\\nReversed dictionary (TLD -> Country):\", reversed_tlds)\n",
    "\n",
    "# g) Convert the country names to uppercase using a dictionary comprehension\n",
    "uppercase_countries = {tld: country.upper() for tld, country in reversed_tlds.items()}\n",
    "print(\"\\nCountries in uppercase:\", uppercase_countries)\n"
   ]
  },
  {
   "cell_type": "code",
   "execution_count": null,
   "id": "c9cb476e-b11b-4a82-9aa2-1abf0c716de4",
   "metadata": {},
   "outputs": [],
   "source": []
  }
 ],
 "metadata": {
  "kernelspec": {
   "display_name": "Python 3 (ipykernel)",
   "language": "python",
   "name": "python3"
  },
  "language_info": {
   "codemirror_mode": {
    "name": "ipython",
    "version": 3
   },
   "file_extension": ".py",
   "mimetype": "text/x-python",
   "name": "python",
   "nbconvert_exporter": "python",
   "pygments_lexer": "ipython3",
   "version": "3.12.4"
  }
 },
 "nbformat": 4,
 "nbformat_minor": 5
}
